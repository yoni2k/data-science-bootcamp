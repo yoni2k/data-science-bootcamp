{
 "cells": [
  {
   "cell_type": "markdown",
   "metadata": {},
   "source": [
    "# Practical example. Audiobooks"
   ]
  },
  {
   "cell_type": "markdown",
   "metadata": {},
   "source": [
    "## Problem\n",
    "\n",
    "You are given data from an Audiobook app. Logically, it relates only to the audio versions of books. Each customer in the database has made a purchase at least once, that's why he/she is in the database. We want to create a machine learning algorithm based on our available data that can predict if a customer will buy again from the Audiobook company.\n",
    "\n",
    "The main idea is that if a customer has a low probability of coming back, there is no reason to spend any money on advertizing to him/her. If we can focus our efforts ONLY on customers that are likely to convert again, we can make great savings. Moreover, this model can identify the most important metrics for a customer to come back again. Identifying new customers creates value and growth opportunities.\n",
    "\n",
    "You have a .csv summarizing the data. There are several variables: Customer ID, Book length in mins_avg (average of all purchases), Book length in minutes_sum (sum of all purchases), Price Paid_avg (average of all purchases), Price paid_sum (sum of all purchases), Review (a Boolean variable), Review (out of 10), Total minutes listened, Completion (from 0 to 1), Support requests (number), and Last visited minus purchase date (in days).\n",
    "\n",
    "So these are the inputs (excluding customer ID, as it is completely arbitrary. It's more like a name, than a number).\n",
    "\n",
    "The targets are a Boolean variable (so 0, or 1). We are taking a period of 2 years in our inputs, and the next 6 months as targets. So, in fact, we are predicting if: based on the last 2 years of activity and engagement, a customer will convert in the next 6 months. 6 months sounds like a reasonable time. If they don't convert after 6 months, chances are they've gone to a competitor or didn't like the Audiobook way of digesting information. \n",
    "\n",
    "The task is simple: create a machine learning algorithm, which is able to predict if a customer will buy again. \n",
    "\n",
    "This is a classification problem with two classes: won't buy and will buy, represented by 0s and 1s. \n",
    "\n",
    "Good luck!"
   ]
  },
  {
   "cell_type": "markdown",
   "metadata": {},
   "source": [
    "## Create the machine learning algorithm\n",
    "\n"
   ]
  },
  {
   "cell_type": "markdown",
   "metadata": {},
   "source": [
    "### Import the relevant libraries"
   ]
  },
  {
   "cell_type": "code",
   "execution_count": 1,
   "metadata": {},
   "outputs": [
    {
     "name": "stderr",
     "output_type": "stream",
     "text": [
      "C:\\Users\\rkrichev\\AppData\\Local\\Continuum\\anaconda3\\envs\\py3-TF2.0\\lib\\site-packages\\tensorflow\\python\\framework\\dtypes.py:516: FutureWarning: Passing (type, 1) or '1type' as a synonym of type is deprecated; in a future version of numpy, it will be understood as (type, (1,)) / '(1,)type'.\n",
      "  _np_qint8 = np.dtype([(\"qint8\", np.int8, 1)])\n",
      "C:\\Users\\rkrichev\\AppData\\Local\\Continuum\\anaconda3\\envs\\py3-TF2.0\\lib\\site-packages\\tensorflow\\python\\framework\\dtypes.py:517: FutureWarning: Passing (type, 1) or '1type' as a synonym of type is deprecated; in a future version of numpy, it will be understood as (type, (1,)) / '(1,)type'.\n",
      "  _np_quint8 = np.dtype([(\"quint8\", np.uint8, 1)])\n",
      "C:\\Users\\rkrichev\\AppData\\Local\\Continuum\\anaconda3\\envs\\py3-TF2.0\\lib\\site-packages\\tensorflow\\python\\framework\\dtypes.py:518: FutureWarning: Passing (type, 1) or '1type' as a synonym of type is deprecated; in a future version of numpy, it will be understood as (type, (1,)) / '(1,)type'.\n",
      "  _np_qint16 = np.dtype([(\"qint16\", np.int16, 1)])\n",
      "C:\\Users\\rkrichev\\AppData\\Local\\Continuum\\anaconda3\\envs\\py3-TF2.0\\lib\\site-packages\\tensorflow\\python\\framework\\dtypes.py:519: FutureWarning: Passing (type, 1) or '1type' as a synonym of type is deprecated; in a future version of numpy, it will be understood as (type, (1,)) / '(1,)type'.\n",
      "  _np_quint16 = np.dtype([(\"quint16\", np.uint16, 1)])\n",
      "C:\\Users\\rkrichev\\AppData\\Local\\Continuum\\anaconda3\\envs\\py3-TF2.0\\lib\\site-packages\\tensorflow\\python\\framework\\dtypes.py:520: FutureWarning: Passing (type, 1) or '1type' as a synonym of type is deprecated; in a future version of numpy, it will be understood as (type, (1,)) / '(1,)type'.\n",
      "  _np_qint32 = np.dtype([(\"qint32\", np.int32, 1)])\n",
      "C:\\Users\\rkrichev\\AppData\\Local\\Continuum\\anaconda3\\envs\\py3-TF2.0\\lib\\site-packages\\tensorflow\\python\\framework\\dtypes.py:525: FutureWarning: Passing (type, 1) or '1type' as a synonym of type is deprecated; in a future version of numpy, it will be understood as (type, (1,)) / '(1,)type'.\n",
      "  np_resource = np.dtype([(\"resource\", np.ubyte, 1)])\n",
      "C:\\Users\\rkrichev\\AppData\\Local\\Continuum\\anaconda3\\envs\\py3-TF2.0\\lib\\site-packages\\tensorboard\\compat\\tensorflow_stub\\dtypes.py:541: FutureWarning: Passing (type, 1) or '1type' as a synonym of type is deprecated; in a future version of numpy, it will be understood as (type, (1,)) / '(1,)type'.\n",
      "  _np_qint8 = np.dtype([(\"qint8\", np.int8, 1)])\n",
      "C:\\Users\\rkrichev\\AppData\\Local\\Continuum\\anaconda3\\envs\\py3-TF2.0\\lib\\site-packages\\tensorboard\\compat\\tensorflow_stub\\dtypes.py:542: FutureWarning: Passing (type, 1) or '1type' as a synonym of type is deprecated; in a future version of numpy, it will be understood as (type, (1,)) / '(1,)type'.\n",
      "  _np_quint8 = np.dtype([(\"quint8\", np.uint8, 1)])\n",
      "C:\\Users\\rkrichev\\AppData\\Local\\Continuum\\anaconda3\\envs\\py3-TF2.0\\lib\\site-packages\\tensorboard\\compat\\tensorflow_stub\\dtypes.py:543: FutureWarning: Passing (type, 1) or '1type' as a synonym of type is deprecated; in a future version of numpy, it will be understood as (type, (1,)) / '(1,)type'.\n",
      "  _np_qint16 = np.dtype([(\"qint16\", np.int16, 1)])\n",
      "C:\\Users\\rkrichev\\AppData\\Local\\Continuum\\anaconda3\\envs\\py3-TF2.0\\lib\\site-packages\\tensorboard\\compat\\tensorflow_stub\\dtypes.py:544: FutureWarning: Passing (type, 1) or '1type' as a synonym of type is deprecated; in a future version of numpy, it will be understood as (type, (1,)) / '(1,)type'.\n",
      "  _np_quint16 = np.dtype([(\"quint16\", np.uint16, 1)])\n",
      "C:\\Users\\rkrichev\\AppData\\Local\\Continuum\\anaconda3\\envs\\py3-TF2.0\\lib\\site-packages\\tensorboard\\compat\\tensorflow_stub\\dtypes.py:545: FutureWarning: Passing (type, 1) or '1type' as a synonym of type is deprecated; in a future version of numpy, it will be understood as (type, (1,)) / '(1,)type'.\n",
      "  _np_qint32 = np.dtype([(\"qint32\", np.int32, 1)])\n",
      "C:\\Users\\rkrichev\\AppData\\Local\\Continuum\\anaconda3\\envs\\py3-TF2.0\\lib\\site-packages\\tensorboard\\compat\\tensorflow_stub\\dtypes.py:550: FutureWarning: Passing (type, 1) or '1type' as a synonym of type is deprecated; in a future version of numpy, it will be understood as (type, (1,)) / '(1,)type'.\n",
      "  np_resource = np.dtype([(\"resource\", np.ubyte, 1)])\n"
     ]
    }
   ],
   "source": [
    "# we must import the libraries once again since we haven't imported them in this file\n",
    "import numpy as np\n",
    "import tensorflow as tf"
   ]
  },
  {
   "cell_type": "markdown",
   "metadata": {},
   "source": [
    "### Data"
   ]
  },
  {
   "cell_type": "code",
   "execution_count": 2,
   "metadata": {},
   "outputs": [],
   "source": [
    "# let's create a temporary variable npz, where we will store each of the three Audiobooks datasets\n",
    "npz = np.load('Audiobooks_data_train.npz')\n",
    "\n",
    "# we extract the inputs using the keyword under which we saved them\n",
    "# to ensure that they are all floats, let's also take care of that\n",
    "train_inputs = npz['inputs'].astype(np.float)\n",
    "# targets must be int because of sparse_categorical_crossentropy (we want to be able to smoothly one-hot encode them)\n",
    "train_targets = npz['targets'].astype(np.int)\n",
    "\n",
    "# we load the validation data in the temporary variable\n",
    "npz = np.load('Audiobooks_data_validation.npz')\n",
    "# we can load the inputs and the targets in the same line\n",
    "validation_inputs, validation_targets = npz['inputs'].astype(np.float), npz['targets'].astype(np.int)\n",
    "\n",
    "# we load the test data in the temporary variable\n",
    "npz = np.load('Audiobooks_data_test.npz')\n",
    "# we create 2 variables that will contain the test inputs and the test targets\n",
    "test_inputs, test_targets = npz['inputs'].astype(np.float), npz['targets'].astype(np.int)"
   ]
  },
  {
   "cell_type": "markdown",
   "metadata": {},
   "source": [
    "### Model\n",
    "Outline, optimizers, loss, early stopping and training"
   ]
  },
  {
   "cell_type": "code",
   "execution_count": 3,
   "metadata": {},
   "outputs": [
    {
     "name": "stderr",
     "output_type": "stream",
     "text": [
      "WARNING: Logging before flag parsing goes to stderr.\n",
      "W0826 20:42:38.834678 20424 deprecation.py:323] From C:\\Users\\rkrichev\\AppData\\Local\\Continuum\\anaconda3\\envs\\py3-TF2.0\\lib\\site-packages\\tensorflow\\python\\ops\\math_grad.py:1250: add_dispatch_support.<locals>.wrapper (from tensorflow.python.ops.array_ops) is deprecated and will be removed in a future version.\n",
      "Instructions for updating:\n",
      "Use tf.where in 2.0, which has the same broadcast rule as np.where\n"
     ]
    },
    {
     "name": "stdout",
     "output_type": "stream",
     "text": [
      "Train on 3579 samples, validate on 447 samples\n",
      "Epoch 1/300\n",
      "3579/3579 - 0s - loss: 0.7057 - accuracy: 0.4700 - val_loss: 0.6518 - val_accuracy: 0.6734\n",
      "Epoch 2/300\n",
      "3579/3579 - 0s - loss: 0.6516 - accuracy: 0.6572 - val_loss: 0.6067 - val_accuracy: 0.7204\n",
      "Epoch 3/300\n",
      "3579/3579 - 0s - loss: 0.6090 - accuracy: 0.7181 - val_loss: 0.5725 - val_accuracy: 0.7450\n",
      "Epoch 4/300\n",
      "3579/3579 - 0s - loss: 0.5757 - accuracy: 0.7413 - val_loss: 0.5463 - val_accuracy: 0.7562\n",
      "Epoch 5/300\n",
      "3579/3579 - 0s - loss: 0.5495 - accuracy: 0.7449 - val_loss: 0.5259 - val_accuracy: 0.7562\n",
      "Epoch 6/300\n",
      "3579/3579 - 0s - loss: 0.5286 - accuracy: 0.7499 - val_loss: 0.5095 - val_accuracy: 0.7584\n",
      "Epoch 7/300\n",
      "3579/3579 - 0s - loss: 0.5115 - accuracy: 0.7552 - val_loss: 0.4960 - val_accuracy: 0.7606\n",
      "Epoch 8/300\n",
      "3579/3579 - 0s - loss: 0.4972 - accuracy: 0.7580 - val_loss: 0.4844 - val_accuracy: 0.7651\n",
      "Epoch 9/300\n",
      "3579/3579 - 0s - loss: 0.4851 - accuracy: 0.7622 - val_loss: 0.4742 - val_accuracy: 0.7651\n",
      "Epoch 10/300\n",
      "3579/3579 - 0s - loss: 0.4745 - accuracy: 0.7673 - val_loss: 0.4648 - val_accuracy: 0.7696\n",
      "Epoch 11/300\n",
      "3579/3579 - 0s - loss: 0.4650 - accuracy: 0.7689 - val_loss: 0.4562 - val_accuracy: 0.7740\n",
      "Epoch 12/300\n",
      "3579/3579 - 0s - loss: 0.4565 - accuracy: 0.7692 - val_loss: 0.4487 - val_accuracy: 0.7785\n",
      "Epoch 13/300\n",
      "3579/3579 - 0s - loss: 0.4489 - accuracy: 0.7714 - val_loss: 0.4423 - val_accuracy: 0.7763\n",
      "Epoch 14/300\n",
      "3579/3579 - 0s - loss: 0.4420 - accuracy: 0.7745 - val_loss: 0.4371 - val_accuracy: 0.7808\n",
      "Epoch 15/300\n",
      "3579/3579 - 0s - loss: 0.4360 - accuracy: 0.7759 - val_loss: 0.4329 - val_accuracy: 0.7785\n",
      "Epoch 16/300\n",
      "3579/3579 - 0s - loss: 0.4308 - accuracy: 0.7779 - val_loss: 0.4292 - val_accuracy: 0.7763\n",
      "Epoch 17/300\n",
      "3579/3579 - 0s - loss: 0.4261 - accuracy: 0.7795 - val_loss: 0.4256 - val_accuracy: 0.7740\n",
      "Epoch 18/300\n",
      "3579/3579 - 0s - loss: 0.4218 - accuracy: 0.7818 - val_loss: 0.4219 - val_accuracy: 0.7763\n",
      "Epoch 19/300\n",
      "3579/3579 - 0s - loss: 0.4178 - accuracy: 0.7823 - val_loss: 0.4181 - val_accuracy: 0.7763\n",
      "Epoch 20/300\n",
      "3579/3579 - 0s - loss: 0.4139 - accuracy: 0.7865 - val_loss: 0.4143 - val_accuracy: 0.7763\n",
      "Epoch 21/300\n",
      "3579/3579 - 0s - loss: 0.4103 - accuracy: 0.7871 - val_loss: 0.4107 - val_accuracy: 0.7740\n",
      "Epoch 22/300\n",
      "3579/3579 - 0s - loss: 0.4069 - accuracy: 0.7890 - val_loss: 0.4076 - val_accuracy: 0.7808\n",
      "Epoch 23/300\n",
      "3579/3579 - 0s - loss: 0.4038 - accuracy: 0.7916 - val_loss: 0.4051 - val_accuracy: 0.7808\n",
      "Epoch 24/300\n",
      "3579/3579 - 0s - loss: 0.4008 - accuracy: 0.7941 - val_loss: 0.4031 - val_accuracy: 0.7785\n",
      "Epoch 25/300\n",
      "3579/3579 - 0s - loss: 0.3980 - accuracy: 0.7944 - val_loss: 0.4015 - val_accuracy: 0.7763\n",
      "Epoch 26/300\n",
      "3579/3579 - 0s - loss: 0.3954 - accuracy: 0.7944 - val_loss: 0.4003 - val_accuracy: 0.7808\n",
      "Epoch 27/300\n",
      "3579/3579 - 0s - loss: 0.3928 - accuracy: 0.7985 - val_loss: 0.3992 - val_accuracy: 0.7852\n",
      "Epoch 28/300\n",
      "3579/3579 - 0s - loss: 0.3904 - accuracy: 0.7991 - val_loss: 0.3981 - val_accuracy: 0.7808\n",
      "Epoch 29/300\n",
      "3579/3579 - 0s - loss: 0.3881 - accuracy: 0.7985 - val_loss: 0.3971 - val_accuracy: 0.7785\n",
      "Epoch 30/300\n",
      "3579/3579 - 0s - loss: 0.3859 - accuracy: 0.7999 - val_loss: 0.3960 - val_accuracy: 0.7763\n",
      "Epoch 31/300\n",
      "3579/3579 - 0s - loss: 0.3838 - accuracy: 0.8030 - val_loss: 0.3947 - val_accuracy: 0.7785\n",
      "Epoch 32/300\n",
      "3579/3579 - 0s - loss: 0.3819 - accuracy: 0.8064 - val_loss: 0.3934 - val_accuracy: 0.7785\n",
      "Epoch 33/300\n",
      "3579/3579 - 0s - loss: 0.3799 - accuracy: 0.8072 - val_loss: 0.3919 - val_accuracy: 0.7830\n",
      "Epoch 34/300\n",
      "3579/3579 - 0s - loss: 0.3780 - accuracy: 0.8075 - val_loss: 0.3904 - val_accuracy: 0.7852\n",
      "Epoch 35/300\n",
      "3579/3579 - 0s - loss: 0.3762 - accuracy: 0.8075 - val_loss: 0.3890 - val_accuracy: 0.7875\n",
      "Epoch 36/300\n",
      "3579/3579 - 0s - loss: 0.3744 - accuracy: 0.8089 - val_loss: 0.3878 - val_accuracy: 0.7919\n",
      "Epoch 37/300\n",
      "3579/3579 - 0s - loss: 0.3728 - accuracy: 0.8103 - val_loss: 0.3867 - val_accuracy: 0.7919\n",
      "Epoch 38/300\n",
      "3579/3579 - 0s - loss: 0.3712 - accuracy: 0.8108 - val_loss: 0.3859 - val_accuracy: 0.7897\n",
      "Epoch 39/300\n",
      "3579/3579 - 0s - loss: 0.3697 - accuracy: 0.8111 - val_loss: 0.3853 - val_accuracy: 0.7919\n",
      "Epoch 40/300\n",
      "3579/3579 - 0s - loss: 0.3682 - accuracy: 0.8117 - val_loss: 0.3849 - val_accuracy: 0.7897\n",
      "Epoch 41/300\n",
      "3579/3579 - 0s - loss: 0.3667 - accuracy: 0.8142 - val_loss: 0.3846 - val_accuracy: 0.7875\n",
      "Epoch 42/300\n",
      "3579/3579 - 0s - loss: 0.3653 - accuracy: 0.8153 - val_loss: 0.3844 - val_accuracy: 0.7875\n",
      "Epoch 43/300\n",
      "3579/3579 - 0s - loss: 0.3640 - accuracy: 0.8156 - val_loss: 0.3840 - val_accuracy: 0.7875\n",
      "Epoch 44/300\n",
      "3579/3579 - 0s - loss: 0.3627 - accuracy: 0.8153 - val_loss: 0.3833 - val_accuracy: 0.7875\n",
      "Epoch 45/300\n",
      "3579/3579 - 0s - loss: 0.3614 - accuracy: 0.8161 - val_loss: 0.3824 - val_accuracy: 0.7830\n",
      "Epoch 46/300\n",
      "3579/3579 - 0s - loss: 0.3602 - accuracy: 0.8167 - val_loss: 0.3815 - val_accuracy: 0.7852\n",
      "Epoch 47/300\n",
      "3579/3579 - 0s - loss: 0.3590 - accuracy: 0.8170 - val_loss: 0.3809 - val_accuracy: 0.7875\n",
      "Epoch 48/300\n",
      "3579/3579 - 0s - loss: 0.3578 - accuracy: 0.8167 - val_loss: 0.3806 - val_accuracy: 0.7897\n",
      "Epoch 49/300\n",
      "3579/3579 - 0s - loss: 0.3567 - accuracy: 0.8167 - val_loss: 0.3804 - val_accuracy: 0.7919\n",
      "Epoch 50/300\n",
      "3579/3579 - 0s - loss: 0.3556 - accuracy: 0.8175 - val_loss: 0.3801 - val_accuracy: 0.7919\n",
      "Epoch 51/300\n",
      "3579/3579 - 0s - loss: 0.3544 - accuracy: 0.8178 - val_loss: 0.3799 - val_accuracy: 0.7897\n",
      "Epoch 52/300\n",
      "3579/3579 - 0s - loss: 0.3534 - accuracy: 0.8167 - val_loss: 0.3796 - val_accuracy: 0.7875\n",
      "Epoch 53/300\n",
      "3579/3579 - 0s - loss: 0.3523 - accuracy: 0.8170 - val_loss: 0.3794 - val_accuracy: 0.7897\n",
      "Epoch 54/300\n",
      "3579/3579 - 0s - loss: 0.3513 - accuracy: 0.8178 - val_loss: 0.3790 - val_accuracy: 0.7919\n",
      "Epoch 55/300\n",
      "3579/3579 - 0s - loss: 0.3503 - accuracy: 0.8173 - val_loss: 0.3783 - val_accuracy: 0.7897\n",
      "Epoch 56/300\n",
      "3579/3579 - 0s - loss: 0.3493 - accuracy: 0.8181 - val_loss: 0.3773 - val_accuracy: 0.7942\n",
      "Epoch 57/300\n",
      "3579/3579 - 0s - loss: 0.3483 - accuracy: 0.8184 - val_loss: 0.3763 - val_accuracy: 0.7942\n",
      "Epoch 58/300\n",
      "3579/3579 - 0s - loss: 0.3474 - accuracy: 0.8201 - val_loss: 0.3757 - val_accuracy: 0.7964\n",
      "Epoch 59/300\n",
      "3579/3579 - 0s - loss: 0.3465 - accuracy: 0.8203 - val_loss: 0.3754 - val_accuracy: 0.7987\n",
      "Epoch 60/300\n",
      "3579/3579 - 0s - loss: 0.3456 - accuracy: 0.8203 - val_loss: 0.3752 - val_accuracy: 0.7964\n",
      "Epoch 61/300\n",
      "3579/3579 - 0s - loss: 0.3447 - accuracy: 0.8206 - val_loss: 0.3748 - val_accuracy: 0.7964\n",
      "Epoch 62/300\n",
      "3579/3579 - 0s - loss: 0.3439 - accuracy: 0.8203 - val_loss: 0.3743 - val_accuracy: 0.7942\n",
      "Epoch 63/300\n",
      "3579/3579 - 0s - loss: 0.3430 - accuracy: 0.8212 - val_loss: 0.3738 - val_accuracy: 0.7942\n",
      "Epoch 64/300\n",
      "3579/3579 - 0s - loss: 0.3422 - accuracy: 0.8217 - val_loss: 0.3733 - val_accuracy: 0.7964\n",
      "Epoch 65/300\n",
      "3579/3579 - 0s - loss: 0.3414 - accuracy: 0.8217 - val_loss: 0.3728 - val_accuracy: 0.7919\n",
      "Epoch 66/300\n",
      "3579/3579 - 0s - loss: 0.3406 - accuracy: 0.8220 - val_loss: 0.3722 - val_accuracy: 0.7942\n",
      "Epoch 67/300\n",
      "3579/3579 - 0s - loss: 0.3399 - accuracy: 0.8217 - val_loss: 0.3717 - val_accuracy: 0.7942\n",
      "Epoch 68/300\n",
      "3579/3579 - 0s - loss: 0.3391 - accuracy: 0.8220 - val_loss: 0.3715 - val_accuracy: 0.7942\n",
      "Epoch 69/300\n",
      "3579/3579 - 0s - loss: 0.3384 - accuracy: 0.8229 - val_loss: 0.3715 - val_accuracy: 0.7964\n",
      "Epoch 70/300\n",
      "3579/3579 - 0s - loss: 0.3376 - accuracy: 0.8234 - val_loss: 0.3713 - val_accuracy: 0.7987\n",
      "Epoch 71/300\n",
      "3579/3579 - 0s - loss: 0.3369 - accuracy: 0.8231 - val_loss: 0.3709 - val_accuracy: 0.7987\n",
      "Epoch 72/300\n",
      "3579/3579 - 0s - loss: 0.3362 - accuracy: 0.8240 - val_loss: 0.3706 - val_accuracy: 0.7987\n",
      "Epoch 73/300\n",
      "3579/3579 - 0s - loss: 0.3355 - accuracy: 0.8243 - val_loss: 0.3703 - val_accuracy: 0.7987\n",
      "Epoch 74/300\n",
      "3579/3579 - 0s - loss: 0.3349 - accuracy: 0.8248 - val_loss: 0.3701 - val_accuracy: 0.7987\n",
      "Epoch 75/300\n",
      "3579/3579 - 0s - loss: 0.3342 - accuracy: 0.8245 - val_loss: 0.3699 - val_accuracy: 0.7987\n",
      "Epoch 76/300\n",
      "3579/3579 - 0s - loss: 0.3335 - accuracy: 0.8248 - val_loss: 0.3700 - val_accuracy: 0.7987\n",
      "Epoch 77/300\n",
      "3579/3579 - 0s - loss: 0.3329 - accuracy: 0.8248 - val_loss: 0.3700 - val_accuracy: 0.7987\n",
      "Epoch 78/300\n",
      "3579/3579 - 0s - loss: 0.3322 - accuracy: 0.8254 - val_loss: 0.3698 - val_accuracy: 0.7987\n",
      "Epoch 79/300\n",
      "3579/3579 - 0s - loss: 0.3316 - accuracy: 0.8265 - val_loss: 0.3696 - val_accuracy: 0.7964\n"
     ]
    },
    {
     "name": "stdout",
     "output_type": "stream",
     "text": [
      "Epoch 80/300\n",
      "3579/3579 - 0s - loss: 0.3310 - accuracy: 0.8265 - val_loss: 0.3695 - val_accuracy: 0.7987\n",
      "Epoch 81/300\n",
      "3579/3579 - 0s - loss: 0.3304 - accuracy: 0.8276 - val_loss: 0.3694 - val_accuracy: 0.7987\n",
      "Epoch 82/300\n",
      "3579/3579 - 0s - loss: 0.3298 - accuracy: 0.8279 - val_loss: 0.3695 - val_accuracy: 0.7987\n",
      "Epoch 83/300\n",
      "3579/3579 - 0s - loss: 0.3293 - accuracy: 0.8279 - val_loss: 0.3695 - val_accuracy: 0.7987\n",
      "Epoch 84/300\n",
      "3579/3579 - 0s - loss: 0.3287 - accuracy: 0.8284 - val_loss: 0.3695 - val_accuracy: 0.7964\n",
      "Epoch 85/300\n",
      "3579/3579 - 0s - loss: 0.3282 - accuracy: 0.8282 - val_loss: 0.3693 - val_accuracy: 0.7919\n",
      "Epoch 86/300\n",
      "3579/3579 - 0s - loss: 0.3276 - accuracy: 0.8287 - val_loss: 0.3692 - val_accuracy: 0.7964\n",
      "Epoch 87/300\n",
      "3579/3579 - 0s - loss: 0.3271 - accuracy: 0.8287 - val_loss: 0.3691 - val_accuracy: 0.7852\n",
      "Epoch 88/300\n",
      "3579/3579 - 0s - loss: 0.3267 - accuracy: 0.8293 - val_loss: 0.3696 - val_accuracy: 0.8009\n",
      "Epoch 89/300\n",
      "3579/3579 - 0s - loss: 0.3264 - accuracy: 0.8276 - val_loss: 0.3697 - val_accuracy: 0.7942\n",
      "Epoch 90/300\n",
      "3579/3579 - 0s - loss: 0.3261 - accuracy: 0.8290 - val_loss: 0.3697 - val_accuracy: 0.7987\n",
      "Epoch 91/300\n",
      "3579/3579 - 0s - loss: 0.3255 - accuracy: 0.8282 - val_loss: 0.3696 - val_accuracy: 0.7897\n",
      "Epoch 92/300\n",
      "3579/3579 - 0s - loss: 0.3247 - accuracy: 0.8310 - val_loss: 0.3695 - val_accuracy: 0.7942\n",
      "Epoch 93/300\n",
      "3579/3579 - 0s - loss: 0.3244 - accuracy: 0.8296 - val_loss: 0.3697 - val_accuracy: 0.7987\n",
      "Epoch 94/300\n",
      "3579/3579 - 0s - loss: 0.3242 - accuracy: 0.8290 - val_loss: 0.3697 - val_accuracy: 0.7919\n"
     ]
    },
    {
     "data": {
      "text/plain": [
       "<tensorflow.python.keras.callbacks.History at 0x1d3bd568608>"
      ]
     },
     "execution_count": 3,
     "metadata": {},
     "output_type": "execute_result"
    }
   ],
   "source": [
    "# Set the input and output sizes\n",
    "input_size = 10\n",
    "output_size = 2\n",
    "# Use same hidden layer size for both hidden layers. Not a necessity.\n",
    "hidden_layer_size = 200\n",
    "    \n",
    "# define how the model will look like\n",
    "model = tf.keras.Sequential([\n",
    "    # tf.keras.layers.Dense is basically implementing: output = activation(dot(input, weight) + bias)\n",
    "    # it takes several arguments, but the most important ones for us are the hidden_layer_size and the activation function\n",
    "    tf.keras.layers.Dense(hidden_layer_size, activation='relu'), # 1st hidden layer\n",
    "    tf.keras.layers.Dense(hidden_layer_size, activation='tanh'), # 2nd hidden layer\n",
    "    # the final layer is no different, we just make sure to activate it with softmax\n",
    "    tf.keras.layers.Dense(output_size, activation='softmax') # output layer\n",
    "])\n",
    "\n",
    "\n",
    "### Choose the optimizer and the loss function\n",
    "\n",
    "# we define the optimizer we'd like to use, \n",
    "# the loss function, \n",
    "# and the metrics we are interested in obtaining at each iteration\n",
    "model.compile(optimizer='adam', loss='sparse_categorical_crossentropy', metrics=['accuracy'])\n",
    "\n",
    "### Training\n",
    "# That's where we train the model we have built.\n",
    "\n",
    "# set the batch size\n",
    "batch_size = 3580\n",
    "\n",
    "# set a maximum number of training epochs\n",
    "max_epochs = 300\n",
    "\n",
    "# set an early stopping mechanism\n",
    "# let's set patience=2, to be a bit tolerant against random validation loss increases\n",
    "early_stopping = tf.keras.callbacks.EarlyStopping(patience=7, monitor='val_loss', min_delta=0.00005, restore_best_weights=True)\n",
    "\n",
    "# fit the model\n",
    "# note that this time the train, validation and test data are not iterable\n",
    "model.fit(train_inputs, # train inputs\n",
    "          train_targets, # train targets\n",
    "          batch_size=batch_size, # batch size\n",
    "          epochs=max_epochs, # epochs that we will train for (assuming early stopping doesn't kick in)\n",
    "          # callbacks are functions called by a task when a task is completed\n",
    "          # task here is to check if val_loss is increasing\n",
    "          callbacks=[early_stopping], # early stopping\n",
    "          validation_data=(validation_inputs, validation_targets), # validation data\n",
    "          verbose = 2 # making sure we get enough information about the training process\n",
    "          )  "
   ]
  },
  {
   "cell_type": "markdown",
   "metadata": {},
   "source": [
    "## Test the model\n",
    "\n",
    "As we discussed in the lectures, after training on the training data and validating on the validation data, we test the final prediction power of our model by running it on the test dataset that the algorithm has NEVER seen before.\n",
    "\n",
    "It is very important to realize that fiddling with the hyperparameters overfits the validation dataset. \n",
    "\n",
    "The test is the absolute final instance. You should not test before you are completely done with adjusting your model.\n",
    "\n",
    "If you adjust your model after testing, you will start overfitting the test dataset, which will defeat its purpose."
   ]
  },
  {
   "cell_type": "code",
   "execution_count": 4,
   "metadata": {},
   "outputs": [
    {
     "name": "stdout",
     "output_type": "stream",
     "text": [
      "448/448 [==============================] - 0s 87us/sample - loss: 0.3610 - accuracy: 0.8170\n"
     ]
    }
   ],
   "source": [
    "test_loss, test_accuracy = model.evaluate(test_inputs, test_targets)"
   ]
  },
  {
   "cell_type": "code",
   "execution_count": 5,
   "metadata": {},
   "outputs": [
    {
     "name": "stdout",
     "output_type": "stream",
     "text": [
      "\n",
      "Test loss: 0.36. Test accuracy: 81.70%\n"
     ]
    }
   ],
   "source": [
    "print('\\nTest loss: {0:.2f}. Test accuracy: {1:.2f}%'.format(test_loss, test_accuracy*100.))"
   ]
  },
  {
   "cell_type": "markdown",
   "metadata": {},
   "source": [
    "Using the initial model and hyperparameters given in this notebook, the final test accuracy should be roughly around 91%.\n",
    "\n",
    "Note that each time the code is rerun, we get a different accuracy because each training is different. \n",
    "\n",
    "We have intentionally reached a suboptimal solution, so you can have space to build on it!"
   ]
  }
 ],
 "metadata": {
  "kernelspec": {
   "display_name": "Python [conda env:py3-TF2.0]",
   "language": "python",
   "name": "conda-env-py3-TF2.0-py"
  },
  "language_info": {
   "codemirror_mode": {
    "name": "ipython",
    "version": 3
   },
   "file_extension": ".py",
   "mimetype": "text/x-python",
   "name": "python",
   "nbconvert_exporter": "python",
   "pygments_lexer": "ipython3",
   "version": "3.7.4"
  }
 },
 "nbformat": 4,
 "nbformat_minor": 2
}
